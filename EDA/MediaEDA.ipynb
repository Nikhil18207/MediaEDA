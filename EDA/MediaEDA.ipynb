{
 "cells": [
  {
   "cell_type": "markdown",
   "id": "2a48460a-1d8d-4907-ba6f-acb67b79ee2f",
   "metadata": {},
   "source": [
    "## Ad Click Prediction: What, why, and how?\n",
    "\n",
    "The online advertisement industry has become a multi-billion industry, and predicting ad CTR (click-through rate) is now central. Nowadays, different types of advertisers and search engines rely on modelling to predict ad CTR accurately.\n",
    "\n",
    "We will be predicting the ad click-through rate using the machine learning approach. Before that, let us first understand few essential concepts and a general practice followed by search engines to decide which ads to display.\n",
    "\n",
    "CTR: It is the metric used to measure the percentage of impressions that resulted in a click.\n",
    "\n",
    "## CTR = (Number of Clicks - Number of Throughs) * 100% / Number of Impression\n",
    "\n",
    "-> Search ads: Advertisements that get displayed when a user searches for a particular keyword.\n",
    "\n",
    "-> Paid search advertising is a popular form of Pay per click (PPC) advertising in which brands or advertisers pay (bid amount) to have their ads displayed when users search for specific keywords.\n",
    "\n",
    "## Relevance of Predicting CTR through a real-life example:\n",
    "\n",
    "-> Typically, the primary source of income for search engines like Google is through advertisement. Many companies pay these search engines to display their ads when a user searches for a particular keyword. Our focus is on search ads and CTR, i.e. the amount is paid only when a user clicks on the link and redirects to the brand’s website.\n",
    "\n",
    "-> Different advertisers approach these search engines with their ads and the bidding amount to display their ads. The main objective of these search engines is to maximize their revenue. So the question is, how does a search engine decide which ads to display when a user searches for a particular keyword?\n",
    "\n",
    "-> Till now, we have seen what ad click prediction is and why is it important. Let us now explore how to calculate ad click prediction by performing machine learning modelling on a dataset. We will build a Logistic Regression model that would help us predict whether a user will click on an ad or not based on the features of that user. And hence calculate the probability of a user clicking on an ad.\n",
    "\n",
    "-> Using these probabilities, search engines could decide which ads to display by multiplying the possibilities with the bid amount and sorting it out."
   ]
  },
  {
   "cell_type": "markdown",
   "id": "26a6cd61-63ec-4cb9-bd49-f76af6a5875d",
   "metadata": {},
   "source": [
    "## Problem Statement\n",
    "\n",
    "->In this project, we will work with the advertising data of a marketing agency to develop a machine learning algorithm that predicts if a particular user will click on an advertisement.\n",
    "\n",
    "The data consists of 10 variables:\n",
    "\n",
    "## 'Daily Time Spent on Site', 'Age', 'Area Income', 'Daily Internet Usage', 'Ad Topic Line', 'City', 'Male', 'Country', Timestamp' and 'Clicked on Ad'.\n",
    "\n",
    "->The primary variable we are interested in is ' Clicked on Ad'.\n",
    "This variable can have two possible outcomes: 0 and 1, where 0 refers to a user who didn't click the advertisement, while one refers to the scenario where a user clicks the ad.\n",
    "\n",
    "->We will see if we can use the other 9 variables to accurately predict the value 'Clicked on Ad' variable.\n",
    "\n",
    "->We will also perform some exploratory data analysis to see how 'Daily Time Spent on Site' in combination with 'Ad Topic Line' affects the user's decision to click on the ad."
   ]
  },
  {
   "cell_type": "markdown",
   "id": "2acb2b33-9cc6-4303-9988-ac14be91ccb2",
   "metadata": {},
   "source": [
    "## Introduction\n",
    "\n",
    "-> This project's goals are to deeply explore data to do with advertising, perform quantitive analysis, and achieve predictions from the data using machine learning techniques.\n",
    "\n",
    "## This data set contains the following features:\n",
    "\n",
    "-> Daily Time Spent on Site: consumer time on-site in minutes\n",
    "\n",
    "-> Age: customer age in years\n",
    "\n",
    "-> Area Income: Avg. Income of geographical area of consumer\n",
    "\n",
    "-> Daily Internet Usage: Avg. minutes a day consumer is on the internet\n",
    "\n",
    "-> Ad Topic Line: Headline of the advertisement\n",
    "\n",
    "-> City: City of consumer\n",
    "\n",
    "-> Male: Whether or not the consumer was male\n",
    "\n",
    "-> Country: Country of consumer\n",
    "\n",
    "-> Timestamp: Time at which consumer clicked on Ad or closed window\n",
    "\n",
    "-> Clicked on Ad: 0 or 1 indicated clicking on Ad"
   ]
  },
  {
   "cell_type": "code",
   "execution_count": 7,
   "id": "0f1af930-299a-4375-8505-00661720154e",
   "metadata": {},
   "outputs": [],
   "source": [
    "import numpy as np\n",
    "import pandas as pd\n",
    "import matplotlib.pyplot as plt\n",
    "import seaborn as sns\n",
    "import plotly.express as px\n",
    "from wordcloud import WordCloud\n",
    "import warnings\n",
    "warnings.filterwarnings('ignore')\n",
    "%matplotlib inline\n",
    "sns.set_style('whitegrid')\n",
    "sns.set_context('notebook')"
   ]
  },
  {
   "cell_type": "code",
   "execution_count": 11,
   "id": "ae9527ff-2e3f-45a2-829a-af34988061d4",
   "metadata": {},
   "outputs": [],
   "source": [
    "import os\n",
    "os.chdir(r'C:\\Users\\ASUS\\MediaEDA\\Data')\n",
    "df = pd.read_csv('advertising.csv')\n"
   ]
  },
  {
   "cell_type": "code",
   "execution_count": 13,
   "id": "3e49c7bb-9775-440f-ad27-bd64eda6a4c6",
   "metadata": {},
   "outputs": [
    {
     "data": {
      "text/html": [
       "<div>\n",
       "<style scoped>\n",
       "    .dataframe tbody tr th:only-of-type {\n",
       "        vertical-align: middle;\n",
       "    }\n",
       "\n",
       "    .dataframe tbody tr th {\n",
       "        vertical-align: top;\n",
       "    }\n",
       "\n",
       "    .dataframe thead th {\n",
       "        text-align: right;\n",
       "    }\n",
       "</style>\n",
       "<table border=\"1\" class=\"dataframe\">\n",
       "  <thead>\n",
       "    <tr style=\"text-align: right;\">\n",
       "      <th></th>\n",
       "      <th>Daily Time Spent on Site</th>\n",
       "      <th>Age</th>\n",
       "      <th>Area Income</th>\n",
       "      <th>Daily Internet Usage</th>\n",
       "      <th>Ad Topic Line</th>\n",
       "      <th>City</th>\n",
       "      <th>Male</th>\n",
       "      <th>Country</th>\n",
       "      <th>Timestamp</th>\n",
       "      <th>Clicked on Ad</th>\n",
       "    </tr>\n",
       "  </thead>\n",
       "  <tbody>\n",
       "    <tr>\n",
       "      <th>0</th>\n",
       "      <td>68.95</td>\n",
       "      <td>35</td>\n",
       "      <td>61833.90</td>\n",
       "      <td>256.09</td>\n",
       "      <td>Cloned 5thgeneration orchestration</td>\n",
       "      <td>Wrightburgh</td>\n",
       "      <td>0</td>\n",
       "      <td>Tunisia</td>\n",
       "      <td>2016-03-27 00:53:11</td>\n",
       "      <td>0</td>\n",
       "    </tr>\n",
       "    <tr>\n",
       "      <th>1</th>\n",
       "      <td>80.23</td>\n",
       "      <td>31</td>\n",
       "      <td>68441.85</td>\n",
       "      <td>193.77</td>\n",
       "      <td>Monitored national standardization</td>\n",
       "      <td>West Jodi</td>\n",
       "      <td>1</td>\n",
       "      <td>Nauru</td>\n",
       "      <td>2016-04-04 01:39:02</td>\n",
       "      <td>0</td>\n",
       "    </tr>\n",
       "    <tr>\n",
       "      <th>2</th>\n",
       "      <td>69.47</td>\n",
       "      <td>26</td>\n",
       "      <td>59785.94</td>\n",
       "      <td>236.50</td>\n",
       "      <td>Organic bottom-line service-desk</td>\n",
       "      <td>Davidton</td>\n",
       "      <td>0</td>\n",
       "      <td>San Marino</td>\n",
       "      <td>2016-03-13 20:35:42</td>\n",
       "      <td>0</td>\n",
       "    </tr>\n",
       "    <tr>\n",
       "      <th>3</th>\n",
       "      <td>74.15</td>\n",
       "      <td>29</td>\n",
       "      <td>54806.18</td>\n",
       "      <td>245.89</td>\n",
       "      <td>Triple-buffered reciprocal time-frame</td>\n",
       "      <td>West Terrifurt</td>\n",
       "      <td>1</td>\n",
       "      <td>Italy</td>\n",
       "      <td>2016-01-10 02:31:19</td>\n",
       "      <td>0</td>\n",
       "    </tr>\n",
       "    <tr>\n",
       "      <th>4</th>\n",
       "      <td>68.37</td>\n",
       "      <td>35</td>\n",
       "      <td>73889.99</td>\n",
       "      <td>225.58</td>\n",
       "      <td>Robust logistical utilization</td>\n",
       "      <td>South Manuel</td>\n",
       "      <td>0</td>\n",
       "      <td>Iceland</td>\n",
       "      <td>2016-06-03 03:36:18</td>\n",
       "      <td>0</td>\n",
       "    </tr>\n",
       "    <tr>\n",
       "      <th>...</th>\n",
       "      <td>...</td>\n",
       "      <td>...</td>\n",
       "      <td>...</td>\n",
       "      <td>...</td>\n",
       "      <td>...</td>\n",
       "      <td>...</td>\n",
       "      <td>...</td>\n",
       "      <td>...</td>\n",
       "      <td>...</td>\n",
       "      <td>...</td>\n",
       "    </tr>\n",
       "    <tr>\n",
       "      <th>995</th>\n",
       "      <td>72.97</td>\n",
       "      <td>30</td>\n",
       "      <td>71384.57</td>\n",
       "      <td>208.58</td>\n",
       "      <td>Fundamental modular algorithm</td>\n",
       "      <td>Duffystad</td>\n",
       "      <td>1</td>\n",
       "      <td>Lebanon</td>\n",
       "      <td>2016-02-11 21:49:00</td>\n",
       "      <td>1</td>\n",
       "    </tr>\n",
       "    <tr>\n",
       "      <th>996</th>\n",
       "      <td>51.30</td>\n",
       "      <td>45</td>\n",
       "      <td>67782.17</td>\n",
       "      <td>134.42</td>\n",
       "      <td>Grass-roots cohesive monitoring</td>\n",
       "      <td>New Darlene</td>\n",
       "      <td>1</td>\n",
       "      <td>Bosnia and Herzegovina</td>\n",
       "      <td>2016-04-22 02:07:01</td>\n",
       "      <td>1</td>\n",
       "    </tr>\n",
       "    <tr>\n",
       "      <th>997</th>\n",
       "      <td>51.63</td>\n",
       "      <td>51</td>\n",
       "      <td>42415.72</td>\n",
       "      <td>120.37</td>\n",
       "      <td>Expanded intangible solution</td>\n",
       "      <td>South Jessica</td>\n",
       "      <td>1</td>\n",
       "      <td>Mongolia</td>\n",
       "      <td>2016-02-01 17:24:57</td>\n",
       "      <td>1</td>\n",
       "    </tr>\n",
       "    <tr>\n",
       "      <th>998</th>\n",
       "      <td>55.55</td>\n",
       "      <td>19</td>\n",
       "      <td>41920.79</td>\n",
       "      <td>187.95</td>\n",
       "      <td>Proactive bandwidth-monitored policy</td>\n",
       "      <td>West Steven</td>\n",
       "      <td>0</td>\n",
       "      <td>Guatemala</td>\n",
       "      <td>2016-03-24 02:35:54</td>\n",
       "      <td>0</td>\n",
       "    </tr>\n",
       "    <tr>\n",
       "      <th>999</th>\n",
       "      <td>45.01</td>\n",
       "      <td>26</td>\n",
       "      <td>29875.80</td>\n",
       "      <td>178.35</td>\n",
       "      <td>Virtual 5thgeneration emulation</td>\n",
       "      <td>Ronniemouth</td>\n",
       "      <td>0</td>\n",
       "      <td>Brazil</td>\n",
       "      <td>2016-06-03 21:43:21</td>\n",
       "      <td>1</td>\n",
       "    </tr>\n",
       "  </tbody>\n",
       "</table>\n",
       "<p>1000 rows × 10 columns</p>\n",
       "</div>"
      ],
      "text/plain": [
       "     Daily Time Spent on Site  Age  Area Income  Daily Internet Usage  \\\n",
       "0                       68.95   35     61833.90                256.09   \n",
       "1                       80.23   31     68441.85                193.77   \n",
       "2                       69.47   26     59785.94                236.50   \n",
       "3                       74.15   29     54806.18                245.89   \n",
       "4                       68.37   35     73889.99                225.58   \n",
       "..                        ...  ...          ...                   ...   \n",
       "995                     72.97   30     71384.57                208.58   \n",
       "996                     51.30   45     67782.17                134.42   \n",
       "997                     51.63   51     42415.72                120.37   \n",
       "998                     55.55   19     41920.79                187.95   \n",
       "999                     45.01   26     29875.80                178.35   \n",
       "\n",
       "                             Ad Topic Line            City  Male  \\\n",
       "0       Cloned 5thgeneration orchestration     Wrightburgh     0   \n",
       "1       Monitored national standardization       West Jodi     1   \n",
       "2         Organic bottom-line service-desk        Davidton     0   \n",
       "3    Triple-buffered reciprocal time-frame  West Terrifurt     1   \n",
       "4            Robust logistical utilization    South Manuel     0   \n",
       "..                                     ...             ...   ...   \n",
       "995          Fundamental modular algorithm       Duffystad     1   \n",
       "996        Grass-roots cohesive monitoring     New Darlene     1   \n",
       "997           Expanded intangible solution   South Jessica     1   \n",
       "998   Proactive bandwidth-monitored policy     West Steven     0   \n",
       "999        Virtual 5thgeneration emulation     Ronniemouth     0   \n",
       "\n",
       "                    Country            Timestamp  Clicked on Ad  \n",
       "0                   Tunisia  2016-03-27 00:53:11              0  \n",
       "1                     Nauru  2016-04-04 01:39:02              0  \n",
       "2                San Marino  2016-03-13 20:35:42              0  \n",
       "3                     Italy  2016-01-10 02:31:19              0  \n",
       "4                   Iceland  2016-06-03 03:36:18              0  \n",
       "..                      ...                  ...            ...  \n",
       "995                 Lebanon  2016-02-11 21:49:00              1  \n",
       "996  Bosnia and Herzegovina  2016-04-22 02:07:01              1  \n",
       "997                Mongolia  2016-02-01 17:24:57              1  \n",
       "998               Guatemala  2016-03-24 02:35:54              0  \n",
       "999                  Brazil  2016-06-03 21:43:21              1  \n",
       "\n",
       "[1000 rows x 10 columns]"
      ]
     },
     "execution_count": 13,
     "metadata": {},
     "output_type": "execute_result"
    }
   ],
   "source": [
    "df"
   ]
  },
  {
   "cell_type": "markdown",
   "id": "9658887b-6b0e-44a2-9814-23362330658a",
   "metadata": {},
   "source": [
    "## Data type and length of the variable"
   ]
  },
  {
   "cell_type": "code",
   "execution_count": 16,
   "id": "0606c0d9-4268-4506-8e87-d77a2bfd91e0",
   "metadata": {},
   "outputs": [
    {
     "name": "stdout",
     "output_type": "stream",
     "text": [
      "<class 'pandas.core.frame.DataFrame'>\n",
      "RangeIndex: 1000 entries, 0 to 999\n",
      "Data columns (total 10 columns):\n",
      " #   Column                    Non-Null Count  Dtype  \n",
      "---  ------                    --------------  -----  \n",
      " 0   Daily Time Spent on Site  1000 non-null   float64\n",
      " 1   Age                       1000 non-null   int64  \n",
      " 2   Area Income               1000 non-null   float64\n",
      " 3   Daily Internet Usage      1000 non-null   float64\n",
      " 4   Ad Topic Line             1000 non-null   object \n",
      " 5   City                      1000 non-null   object \n",
      " 6   Male                      1000 non-null   int64  \n",
      " 7   Country                   1000 non-null   object \n",
      " 8   Timestamp                 1000 non-null   object \n",
      " 9   Clicked on Ad             1000 non-null   int64  \n",
      "dtypes: float64(3), int64(3), object(4)\n",
      "memory usage: 78.3+ KB\n"
     ]
    }
   ],
   "source": [
    "df.info()"
   ]
  },
  {
   "cell_type": "code",
   "execution_count": 18,
   "id": "5d762bdc-16b1-4342-9d00-4bef1552bbf3",
   "metadata": {},
   "outputs": [
    {
     "data": {
      "text/plain": [
       "(1000, 10)"
      ]
     },
     "execution_count": 18,
     "metadata": {},
     "output_type": "execute_result"
    }
   ],
   "source": [
    "df.shape"
   ]
  },
  {
   "cell_type": "markdown",
   "id": "b6e80650-f646-4a3e-8e52-276ad5aa2f5a",
   "metadata": {},
   "source": [
    "## Next lets see if the data has duplicates or not"
   ]
  },
  {
   "cell_type": "code",
   "execution_count": 21,
   "id": "af46fd1f-0540-4a97-826b-b6cf22ce166b",
   "metadata": {},
   "outputs": [
    {
     "data": {
      "text/plain": [
       "0"
      ]
     },
     "execution_count": 21,
     "metadata": {},
     "output_type": "execute_result"
    }
   ],
   "source": [
    "df.duplicated().sum()"
   ]
  },
  {
   "cell_type": "markdown",
   "id": "ac832134-5914-4e28-b998-c7f70834b273",
   "metadata": {},
   "source": [
    "The data is looking all good there are no duplicates here"
   ]
  },
  {
   "cell_type": "markdown",
   "id": "2a21a2c2-e77d-44fd-8ac4-dcf00897a609",
   "metadata": {},
   "source": [
    "## Checking for missing values"
   ]
  },
  {
   "cell_type": "markdown",
   "id": "cc8e6ec3-c7e8-4c13-b1ff-4cdc9028937d",
   "metadata": {},
   "source": [
    "Let's see if there is any null value is in the data or not"
   ]
  },
  {
   "cell_type": "code",
   "execution_count": 26,
   "id": "3ad781d8-2ad1-4764-ac08-16dfafae59b3",
   "metadata": {},
   "outputs": [
    {
     "name": "stdout",
     "output_type": "stream",
     "text": [
      "Column: Daily Time Spent on Site\t count of all the NAN value: 0\n",
      "Column: Age       \t count of all the NAN value: 0\n",
      "Column: Area Income\t count of all the NAN value: 0\n",
      "Column: Daily Internet Usage\t count of all the NAN value: 0\n",
      "Column: Ad Topic Line\t count of all the NAN value: 0\n",
      "Column: City      \t count of all the NAN value: 0\n",
      "Column: Male      \t count of all the NAN value: 0\n",
      "Column: Country   \t count of all the NAN value: 0\n",
      "Column: Timestamp \t count of all the NAN value: 0\n",
      "Column: Clicked on Ad\t count of all the NAN value: 0\n"
     ]
    }
   ],
   "source": [
    "for col in df.columns:\n",
    "    msg = 'Column: {:<10}\\t count of all the NAN value: {:.0f}'.format(col,100 * (df[col].isnull().sum()))\n",
    "    print(msg)"
   ]
  },
  {
   "cell_type": "markdown",
   "id": "1bff8850-1b0c-4b68-90b1-d2bce263a90b",
   "metadata": {},
   "source": [
    "So analysing the output we can understand there is no null values in the columns"
   ]
  },
  {
   "cell_type": "markdown",
   "id": "31938f36-35bf-425d-8f88-606c9ffcee6a",
   "metadata": {},
   "source": [
    "## Numerical and Categorical Variables Identification"
   ]
  },
  {
   "cell_type": "code",
   "execution_count": 35,
   "id": "cc882be7-bb09-4342-b3dc-b0499808d6cf",
   "metadata": {},
   "outputs": [
    {
     "data": {
      "text/plain": [
       "Index(['Daily Time Spent on Site', 'Age', 'Area Income',\n",
       "       'Daily Internet Usage', 'Ad Topic Line', 'City', 'Male', 'Country',\n",
       "       'Timestamp', 'Clicked on Ad'],\n",
       "      dtype='object')"
      ]
     },
     "execution_count": 35,
     "metadata": {},
     "output_type": "execute_result"
    }
   ],
   "source": [
    "df.columns"
   ]
  },
  {
   "cell_type": "code",
   "execution_count": 37,
   "id": "94e142eb-5d47-4006-b408-5eeb42dbf989",
   "metadata": {},
   "outputs": [
    {
     "data": {
      "text/plain": [
       "Index(['Ad Topic Line', 'City', 'Country', 'Timestamp'], dtype='object')"
      ]
     },
     "execution_count": 37,
     "metadata": {},
     "output_type": "execute_result"
    }
   ],
   "source": [
    "df.select_dtypes(include=['object']).columns"
   ]
  },
  {
   "cell_type": "code",
   "execution_count": 39,
   "id": "e6836726-3b29-4fa6-8754-e6f61c3d03f9",
   "metadata": {},
   "outputs": [
    {
     "data": {
      "text/html": [
       "<div>\n",
       "<style scoped>\n",
       "    .dataframe tbody tr th:only-of-type {\n",
       "        vertical-align: middle;\n",
       "    }\n",
       "\n",
       "    .dataframe tbody tr th {\n",
       "        vertical-align: top;\n",
       "    }\n",
       "\n",
       "    .dataframe thead th {\n",
       "        text-align: right;\n",
       "    }\n",
       "</style>\n",
       "<table border=\"1\" class=\"dataframe\">\n",
       "  <thead>\n",
       "    <tr style=\"text-align: right;\">\n",
       "      <th></th>\n",
       "      <th>Daily Time Spent on Site</th>\n",
       "      <th>Age</th>\n",
       "      <th>Area Income</th>\n",
       "      <th>Daily Internet Usage</th>\n",
       "      <th>Ad Topic Line</th>\n",
       "      <th>City</th>\n",
       "      <th>Male</th>\n",
       "      <th>Country</th>\n",
       "      <th>Timestamp</th>\n",
       "      <th>Clicked on Ad</th>\n",
       "    </tr>\n",
       "  </thead>\n",
       "  <tbody>\n",
       "    <tr>\n",
       "      <th>0</th>\n",
       "      <td>68.95</td>\n",
       "      <td>35</td>\n",
       "      <td>61833.90</td>\n",
       "      <td>256.09</td>\n",
       "      <td>Cloned 5thgeneration orchestration</td>\n",
       "      <td>Wrightburgh</td>\n",
       "      <td>0</td>\n",
       "      <td>Tunisia</td>\n",
       "      <td>2016-03-27 00:53:11</td>\n",
       "      <td>0</td>\n",
       "    </tr>\n",
       "    <tr>\n",
       "      <th>1</th>\n",
       "      <td>80.23</td>\n",
       "      <td>31</td>\n",
       "      <td>68441.85</td>\n",
       "      <td>193.77</td>\n",
       "      <td>Monitored national standardization</td>\n",
       "      <td>West Jodi</td>\n",
       "      <td>1</td>\n",
       "      <td>Nauru</td>\n",
       "      <td>2016-04-04 01:39:02</td>\n",
       "      <td>0</td>\n",
       "    </tr>\n",
       "    <tr>\n",
       "      <th>2</th>\n",
       "      <td>69.47</td>\n",
       "      <td>26</td>\n",
       "      <td>59785.94</td>\n",
       "      <td>236.50</td>\n",
       "      <td>Organic bottom-line service-desk</td>\n",
       "      <td>Davidton</td>\n",
       "      <td>0</td>\n",
       "      <td>San Marino</td>\n",
       "      <td>2016-03-13 20:35:42</td>\n",
       "      <td>0</td>\n",
       "    </tr>\n",
       "    <tr>\n",
       "      <th>3</th>\n",
       "      <td>74.15</td>\n",
       "      <td>29</td>\n",
       "      <td>54806.18</td>\n",
       "      <td>245.89</td>\n",
       "      <td>Triple-buffered reciprocal time-frame</td>\n",
       "      <td>West Terrifurt</td>\n",
       "      <td>1</td>\n",
       "      <td>Italy</td>\n",
       "      <td>2016-01-10 02:31:19</td>\n",
       "      <td>0</td>\n",
       "    </tr>\n",
       "    <tr>\n",
       "      <th>4</th>\n",
       "      <td>68.37</td>\n",
       "      <td>35</td>\n",
       "      <td>73889.99</td>\n",
       "      <td>225.58</td>\n",
       "      <td>Robust logistical utilization</td>\n",
       "      <td>South Manuel</td>\n",
       "      <td>0</td>\n",
       "      <td>Iceland</td>\n",
       "      <td>2016-06-03 03:36:18</td>\n",
       "      <td>0</td>\n",
       "    </tr>\n",
       "  </tbody>\n",
       "</table>\n",
       "</div>"
      ],
      "text/plain": [
       "   Daily Time Spent on Site  Age  Area Income  Daily Internet Usage  \\\n",
       "0                     68.95   35     61833.90                256.09   \n",
       "1                     80.23   31     68441.85                193.77   \n",
       "2                     69.47   26     59785.94                236.50   \n",
       "3                     74.15   29     54806.18                245.89   \n",
       "4                     68.37   35     73889.99                225.58   \n",
       "\n",
       "                           Ad Topic Line            City  Male     Country  \\\n",
       "0     Cloned 5thgeneration orchestration     Wrightburgh     0     Tunisia   \n",
       "1     Monitored national standardization       West Jodi     1       Nauru   \n",
       "2       Organic bottom-line service-desk        Davidton     0  San Marino   \n",
       "3  Triple-buffered reciprocal time-frame  West Terrifurt     1       Italy   \n",
       "4          Robust logistical utilization    South Manuel     0     Iceland   \n",
       "\n",
       "             Timestamp  Clicked on Ad  \n",
       "0  2016-03-27 00:53:11              0  \n",
       "1  2016-04-04 01:39:02              0  \n",
       "2  2016-03-13 20:35:42              0  \n",
       "3  2016-01-10 02:31:19              0  \n",
       "4  2016-06-03 03:36:18              0  "
      ]
     },
     "execution_count": 39,
     "metadata": {},
     "output_type": "execute_result"
    }
   ],
   "source": [
    "df.head()"
   ]
  },
  {
   "cell_type": "code",
   "execution_count": 41,
   "id": "0d4ebed1-9424-4dc8-8ec5-28e731c6a139",
   "metadata": {},
   "outputs": [],
   "source": [
    "numerical_cols = ['Daily Time Spent on Site','Age','Area Income', 'Daily Internet Usage']"
   ]
  },
  {
   "cell_type": "code",
   "execution_count": 80,
   "id": "0cb8fbd0-0ffa-469d-8de5-1de2c5c1bc9b",
   "metadata": {},
   "outputs": [],
   "source": [
    "categorical_cols = ['Ad Topic Line', 'City', 'Male', 'Country', 'Clicked on Ad']"
   ]
  },
  {
   "cell_type": "code",
   "execution_count": 53,
   "id": "0c196921-5e4a-43ee-829a-e0d80b4b2350",
   "metadata": {},
   "outputs": [
    {
     "data": {
      "text/html": [
       "<div>\n",
       "<style scoped>\n",
       "    .dataframe tbody tr th:only-of-type {\n",
       "        vertical-align: middle;\n",
       "    }\n",
       "\n",
       "    .dataframe tbody tr th {\n",
       "        vertical-align: top;\n",
       "    }\n",
       "\n",
       "    .dataframe thead th {\n",
       "        text-align: right;\n",
       "    }\n",
       "</style>\n",
       "<table border=\"1\" class=\"dataframe\">\n",
       "  <thead>\n",
       "    <tr style=\"text-align: right;\">\n",
       "      <th></th>\n",
       "      <th>count</th>\n",
       "      <th>mean</th>\n",
       "      <th>std</th>\n",
       "      <th>min</th>\n",
       "      <th>25%</th>\n",
       "      <th>50%</th>\n",
       "      <th>75%</th>\n",
       "      <th>max</th>\n",
       "    </tr>\n",
       "  </thead>\n",
       "  <tbody>\n",
       "    <tr>\n",
       "      <th>Daily Time Spent on Site</th>\n",
       "      <td>1000.0</td>\n",
       "      <td>65.00020</td>\n",
       "      <td>15.853615</td>\n",
       "      <td>32.60</td>\n",
       "      <td>51.3600</td>\n",
       "      <td>68.215</td>\n",
       "      <td>78.5475</td>\n",
       "      <td>91.43</td>\n",
       "    </tr>\n",
       "    <tr>\n",
       "      <th>Age</th>\n",
       "      <td>1000.0</td>\n",
       "      <td>36.00900</td>\n",
       "      <td>8.785562</td>\n",
       "      <td>19.00</td>\n",
       "      <td>29.0000</td>\n",
       "      <td>35.000</td>\n",
       "      <td>42.0000</td>\n",
       "      <td>61.00</td>\n",
       "    </tr>\n",
       "    <tr>\n",
       "      <th>Area Income</th>\n",
       "      <td>1000.0</td>\n",
       "      <td>55000.00008</td>\n",
       "      <td>13414.634022</td>\n",
       "      <td>13996.50</td>\n",
       "      <td>47031.8025</td>\n",
       "      <td>57012.300</td>\n",
       "      <td>65470.6350</td>\n",
       "      <td>79484.80</td>\n",
       "    </tr>\n",
       "    <tr>\n",
       "      <th>Daily Internet Usage</th>\n",
       "      <td>1000.0</td>\n",
       "      <td>180.00010</td>\n",
       "      <td>43.902339</td>\n",
       "      <td>104.78</td>\n",
       "      <td>138.8300</td>\n",
       "      <td>183.130</td>\n",
       "      <td>218.7925</td>\n",
       "      <td>269.96</td>\n",
       "    </tr>\n",
       "    <tr>\n",
       "      <th>Male</th>\n",
       "      <td>1000.0</td>\n",
       "      <td>0.48100</td>\n",
       "      <td>0.499889</td>\n",
       "      <td>0.00</td>\n",
       "      <td>0.0000</td>\n",
       "      <td>0.000</td>\n",
       "      <td>1.0000</td>\n",
       "      <td>1.00</td>\n",
       "    </tr>\n",
       "    <tr>\n",
       "      <th>Clicked on Ad</th>\n",
       "      <td>1000.0</td>\n",
       "      <td>0.50000</td>\n",
       "      <td>0.500250</td>\n",
       "      <td>0.00</td>\n",
       "      <td>0.0000</td>\n",
       "      <td>0.500</td>\n",
       "      <td>1.0000</td>\n",
       "      <td>1.00</td>\n",
       "    </tr>\n",
       "  </tbody>\n",
       "</table>\n",
       "</div>"
      ],
      "text/plain": [
       "                           count         mean           std       min  \\\n",
       "Daily Time Spent on Site  1000.0     65.00020     15.853615     32.60   \n",
       "Age                       1000.0     36.00900      8.785562     19.00   \n",
       "Area Income               1000.0  55000.00008  13414.634022  13996.50   \n",
       "Daily Internet Usage      1000.0    180.00010     43.902339    104.78   \n",
       "Male                      1000.0      0.48100      0.499889      0.00   \n",
       "Clicked on Ad             1000.0      0.50000      0.500250      0.00   \n",
       "\n",
       "                                 25%        50%         75%       max  \n",
       "Daily Time Spent on Site     51.3600     68.215     78.5475     91.43  \n",
       "Age                          29.0000     35.000     42.0000     61.00  \n",
       "Area Income               47031.8025  57012.300  65470.6350  79484.80  \n",
       "Daily Internet Usage        138.8300    183.130    218.7925    269.96  \n",
       "Male                          0.0000      0.000      1.0000      1.00  \n",
       "Clicked on Ad                 0.0000      0.500      1.0000      1.00  "
      ]
     },
     "execution_count": 53,
     "metadata": {},
     "output_type": "execute_result"
    }
   ],
   "source": [
    "## Statistical description\n",
    "df.describe().T"
   ]
  },
  {
   "cell_type": "markdown",
   "id": "3ddf97ec-653e-43fe-a7b4-b433f9b7b00b",
   "metadata": {},
   "source": [
    "-> Daily Time Spent on Site: Looking at the time spent on the site minimum being 32 min to maxing up to 91 mins gives us a brief description about the site is very popular and lets see how it correlates witht the ad being clicked or not \n",
    "-> Age: Age count with the range from min 19 to max 61 with a mean of 36 says that site is used mostly by Adults\n",
    "-> Area Income: The minimum users income is 13k to maximum of 79k suggesting us the users are from different financial and social classes. Lets see how they are correlated to ad being clicked or not\n",
    "-> Daily Internet Usage: internet usage from 104 mins to 269 mins per days corelates with the maximum time being spent on the site now lets see how these both things contribute to ad being clicked or not\n",
    "-> Male: 48% of male users suggesting us that females are dominating the category lets see how this contributes to ad being clicked or not\n",
    "-> Clicked on the AD: So 50% of people have clicked on the data and other half have not clicked on it says us the dataset is balanced and this will improve the accuracy of the training set"
   ]
  },
  {
   "cell_type": "markdown",
   "id": "44ba2376-fa34-4f33-a2e1-4511b96b5865",
   "metadata": {},
   "source": [
    "## Summarization of the numerical columns"
   ]
  },
  {
   "cell_type": "code",
   "execution_count": 68,
   "id": "ec1eb4c0-145a-4b64-a9a0-f8e109769d5f",
   "metadata": {},
   "outputs": [
    {
     "data": {
      "text/html": [
       "<div>\n",
       "<style scoped>\n",
       "    .dataframe tbody tr th:only-of-type {\n",
       "        vertical-align: middle;\n",
       "    }\n",
       "\n",
       "    .dataframe tbody tr th {\n",
       "        vertical-align: top;\n",
       "    }\n",
       "\n",
       "    .dataframe thead th {\n",
       "        text-align: right;\n",
       "    }\n",
       "</style>\n",
       "<table border=\"1\" class=\"dataframe\">\n",
       "  <thead>\n",
       "    <tr style=\"text-align: right;\">\n",
       "      <th></th>\n",
       "      <th>Daily Time Spent on Site</th>\n",
       "      <th>Age</th>\n",
       "      <th>Area Income</th>\n",
       "      <th>Daily Internet Usage</th>\n",
       "    </tr>\n",
       "  </thead>\n",
       "  <tbody>\n",
       "    <tr>\n",
       "      <th>count</th>\n",
       "      <td>1000.000000</td>\n",
       "      <td>1000.000000</td>\n",
       "      <td>1000.000000</td>\n",
       "      <td>1000.000000</td>\n",
       "    </tr>\n",
       "    <tr>\n",
       "      <th>mean</th>\n",
       "      <td>65.000200</td>\n",
       "      <td>36.009000</td>\n",
       "      <td>55000.000080</td>\n",
       "      <td>180.000100</td>\n",
       "    </tr>\n",
       "    <tr>\n",
       "      <th>std</th>\n",
       "      <td>15.853615</td>\n",
       "      <td>8.785562</td>\n",
       "      <td>13414.634022</td>\n",
       "      <td>43.902339</td>\n",
       "    </tr>\n",
       "    <tr>\n",
       "      <th>min</th>\n",
       "      <td>32.600000</td>\n",
       "      <td>19.000000</td>\n",
       "      <td>13996.500000</td>\n",
       "      <td>104.780000</td>\n",
       "    </tr>\n",
       "    <tr>\n",
       "      <th>25%</th>\n",
       "      <td>51.360000</td>\n",
       "      <td>29.000000</td>\n",
       "      <td>47031.802500</td>\n",
       "      <td>138.830000</td>\n",
       "    </tr>\n",
       "    <tr>\n",
       "      <th>50%</th>\n",
       "      <td>68.215000</td>\n",
       "      <td>35.000000</td>\n",
       "      <td>57012.300000</td>\n",
       "      <td>183.130000</td>\n",
       "    </tr>\n",
       "    <tr>\n",
       "      <th>75%</th>\n",
       "      <td>78.547500</td>\n",
       "      <td>42.000000</td>\n",
       "      <td>65470.635000</td>\n",
       "      <td>218.792500</td>\n",
       "    </tr>\n",
       "    <tr>\n",
       "      <th>max</th>\n",
       "      <td>91.430000</td>\n",
       "      <td>61.000000</td>\n",
       "      <td>79484.800000</td>\n",
       "      <td>269.960000</td>\n",
       "    </tr>\n",
       "  </tbody>\n",
       "</table>\n",
       "</div>"
      ],
      "text/plain": [
       "       Daily Time Spent on Site          Age   Area Income  \\\n",
       "count               1000.000000  1000.000000   1000.000000   \n",
       "mean                  65.000200    36.009000  55000.000080   \n",
       "std                   15.853615     8.785562  13414.634022   \n",
       "min                   32.600000    19.000000  13996.500000   \n",
       "25%                   51.360000    29.000000  47031.802500   \n",
       "50%                   68.215000    35.000000  57012.300000   \n",
       "75%                   78.547500    42.000000  65470.635000   \n",
       "max                   91.430000    61.000000  79484.800000   \n",
       "\n",
       "       Daily Internet Usage  \n",
       "count           1000.000000  \n",
       "mean             180.000100  \n",
       "std               43.902339  \n",
       "min              104.780000  \n",
       "25%              138.830000  \n",
       "50%              183.130000  \n",
       "75%              218.792500  \n",
       "max              269.960000  "
      ]
     },
     "execution_count": 68,
     "metadata": {},
     "output_type": "execute_result"
    }
   ],
   "source": [
    "df[numerical_cols].describe()"
   ]
  },
  {
   "cell_type": "markdown",
   "id": "40cef319-be04-438e-ad19-0eb4dd25d46b",
   "metadata": {},
   "source": [
    "-> Since the Mean and Median are 65 it suggests us that it is that data is not a skewed distribution and we dont need to perform any data transformation"
   ]
  },
  {
   "cell_type": "markdown",
   "id": "21e4d36c-a139-4fd0-885c-3817ad3f30d4",
   "metadata": {},
   "source": [
    "## Summarization of the categorical columns"
   ]
  },
  {
   "cell_type": "code",
   "execution_count": 76,
   "id": "e3777b5a-f2af-4b44-8231-ca353924326c",
   "metadata": {},
   "outputs": [
    {
     "name": "stdout",
     "output_type": "stream",
     "text": [
      "Ad Topic Line\n",
      "1000\n",
      "\n",
      "City\n",
      "969\n",
      "\n",
      "Country\n",
      "237\n",
      "\n",
      "Timestamp\n",
      "1000\n",
      "\n"
     ]
    }
   ],
   "source": [
    "obj_column = df.dtypes[df.dtypes=='object'].index\n",
    "for i in range(0, len(obj_column)):\n",
    "    print(obj_column[i])\n",
    "    print(len(df[obj_column[i]].unique()))\n",
    "    print()"
   ]
  },
  {
   "cell_type": "code",
   "execution_count": 82,
   "id": "25fffe60-92a3-488f-818d-973a75aa9ee8",
   "metadata": {},
   "outputs": [
    {
     "data": {
      "text/html": [
       "<div>\n",
       "<style scoped>\n",
       "    .dataframe tbody tr th:only-of-type {\n",
       "        vertical-align: middle;\n",
       "    }\n",
       "\n",
       "    .dataframe tbody tr th {\n",
       "        vertical-align: top;\n",
       "    }\n",
       "\n",
       "    .dataframe thead th {\n",
       "        text-align: right;\n",
       "    }\n",
       "</style>\n",
       "<table border=\"1\" class=\"dataframe\">\n",
       "  <thead>\n",
       "    <tr style=\"text-align: right;\">\n",
       "      <th></th>\n",
       "      <th>Ad Topic Line</th>\n",
       "      <th>City</th>\n",
       "      <th>Country</th>\n",
       "    </tr>\n",
       "  </thead>\n",
       "  <tbody>\n",
       "    <tr>\n",
       "      <th>count</th>\n",
       "      <td>1000</td>\n",
       "      <td>1000</td>\n",
       "      <td>1000</td>\n",
       "    </tr>\n",
       "    <tr>\n",
       "      <th>unique</th>\n",
       "      <td>1000</td>\n",
       "      <td>969</td>\n",
       "      <td>237</td>\n",
       "    </tr>\n",
       "    <tr>\n",
       "      <th>top</th>\n",
       "      <td>Cloned 5thgeneration orchestration</td>\n",
       "      <td>Lisamouth</td>\n",
       "      <td>France</td>\n",
       "    </tr>\n",
       "    <tr>\n",
       "      <th>freq</th>\n",
       "      <td>1</td>\n",
       "      <td>3</td>\n",
       "      <td>9</td>\n",
       "    </tr>\n",
       "  </tbody>\n",
       "</table>\n",
       "</div>"
      ],
      "text/plain": [
       "                             Ad Topic Line       City Country\n",
       "count                                 1000       1000    1000\n",
       "unique                                1000        969     237\n",
       "top     Cloned 5thgeneration orchestration  Lisamouth  France\n",
       "freq                                     1          3       9"
      ]
     },
     "execution_count": 82,
     "metadata": {},
     "output_type": "execute_result"
    }
   ],
   "source": [
    "df[categorical_cols].describe(include=['O'])"
   ]
  },
  {
   "cell_type": "markdown",
   "id": "570dfc8b-f3b3-40bb-88e5-9031b0b23e03",
   "metadata": {},
   "source": [
    "-> As we have different unique cities and not many people belong to the same city looking at the freq we can understand that..looks like the column is least favoured considering the situation\n",
    "-> however we have less diversity in the country feature so we have to investigate a lot further"
   ]
  },
  {
   "cell_type": "markdown",
   "id": "b5b1c32e-7162-4df1-ab9e-376db866b516",
   "metadata": {},
   "source": [
    "## Categorizing qualitative and quantitative "
   ]
  },
  {
   "cell_type": "markdown",
   "id": "16f13b7f-65bf-4689-bca5-8aaf54eaa916",
   "metadata": {},
   "source": [
    "-> This should give us the bigger picture about whats happening "
   ]
  }
 ],
 "metadata": {
  "kernelspec": {
   "display_name": "Python 3 (ipykernel)",
   "language": "python",
   "name": "python3"
  },
  "language_info": {
   "codemirror_mode": {
    "name": "ipython",
    "version": 3
   },
   "file_extension": ".py",
   "mimetype": "text/x-python",
   "name": "python",
   "nbconvert_exporter": "python",
   "pygments_lexer": "ipython3",
   "version": "3.12.4"
  }
 },
 "nbformat": 4,
 "nbformat_minor": 5
}
